{
 "cells": [
  {
   "cell_type": "markdown",
   "metadata": {},
   "source": [
    "This script is testing how to calculate normalized, task and collection specific confusion values, for within-task (0), within-collection (between-task) (1), bw-collection (2)"
   ]
  },
  {
   "cell_type": "code",
   "execution_count": 19,
   "metadata": {
    "collapsed": true
   },
   "outputs": [],
   "source": [
    "import pandas\n",
    "import numpy"
   ]
  },
  {
   "cell_type": "code",
   "execution_count": 2,
   "metadata": {
    "collapsed": false
   },
   "outputs": [
    {
     "data": {
      "text/html": [
       "<div>\n",
       "<table border=\"1\" class=\"dataframe\">\n",
       "  <thead>\n",
       "    <tr style=\"text-align: right;\">\n",
       "      <th></th>\n",
       "      <th>0</th>\n",
       "      <th>1</th>\n",
       "      <th>2</th>\n",
       "      <th>3</th>\n",
       "    </tr>\n",
       "  </thead>\n",
       "  <tbody>\n",
       "    <tr>\n",
       "      <th>0</th>\n",
       "      <td>10</td>\n",
       "      <td>1</td>\n",
       "      <td>2</td>\n",
       "      <td>0</td>\n",
       "    </tr>\n",
       "    <tr>\n",
       "      <th>1</th>\n",
       "      <td>1</td>\n",
       "      <td>12</td>\n",
       "      <td>3</td>\n",
       "      <td>1</td>\n",
       "    </tr>\n",
       "    <tr>\n",
       "      <th>2</th>\n",
       "      <td>3</td>\n",
       "      <td>1</td>\n",
       "      <td>14</td>\n",
       "      <td>0</td>\n",
       "    </tr>\n",
       "    <tr>\n",
       "      <th>3</th>\n",
       "      <td>1</td>\n",
       "      <td>1</td>\n",
       "      <td>3</td>\n",
       "      <td>16</td>\n",
       "    </tr>\n",
       "  </tbody>\n",
       "</table>\n",
       "</div>"
      ],
      "text/plain": [
       "    0   1   2   3\n",
       "0  10   1   2   0\n",
       "1   1  12   3   1\n",
       "2   3   1  14   0\n",
       "3   1   1   3  16"
      ]
     },
     "execution_count": 2,
     "metadata": {},
     "output_type": "execute_result"
    }
   ],
   "source": [
    "# A pandas DataFrame is basically a wrapper for a numpy 2D array\n",
    "confusion_mtx=pandas.DataFrame([[10,1,2,0],[1,12,3,1],[3,1,14,0],[1,1,3,16]])\n",
    "confusion_mtx"
   ]
  },
  {
   "cell_type": "code",
   "execution_count": 3,
   "metadata": {
    "collapsed": false
   },
   "outputs": [
    {
     "data": {
      "text/html": [
       "<div>\n",
       "<table border=\"1\" class=\"dataframe\">\n",
       "  <thead>\n",
       "    <tr style=\"text-align: right;\">\n",
       "      <th></th>\n",
       "      <th>image1</th>\n",
       "      <th>image2</th>\n",
       "      <th>image3</th>\n",
       "      <th>image4</th>\n",
       "    </tr>\n",
       "  </thead>\n",
       "  <tbody>\n",
       "    <tr>\n",
       "      <th>image1</th>\n",
       "      <td>10</td>\n",
       "      <td>1</td>\n",
       "      <td>2</td>\n",
       "      <td>0</td>\n",
       "    </tr>\n",
       "    <tr>\n",
       "      <th>image2</th>\n",
       "      <td>1</td>\n",
       "      <td>12</td>\n",
       "      <td>3</td>\n",
       "      <td>1</td>\n",
       "    </tr>\n",
       "    <tr>\n",
       "      <th>image3</th>\n",
       "      <td>3</td>\n",
       "      <td>1</td>\n",
       "      <td>14</td>\n",
       "      <td>0</td>\n",
       "    </tr>\n",
       "    <tr>\n",
       "      <th>image4</th>\n",
       "      <td>1</td>\n",
       "      <td>1</td>\n",
       "      <td>3</td>\n",
       "      <td>16</td>\n",
       "    </tr>\n",
       "  </tbody>\n",
       "</table>\n",
       "</div>"
      ],
      "text/plain": [
       "        image1  image2  image3  image4\n",
       "image1      10       1       2       0\n",
       "image2       1      12       3       1\n",
       "image3       3       1      14       0\n",
       "image4       1       1       3      16"
      ]
     },
     "execution_count": 3,
     "metadata": {},
     "output_type": "execute_result"
    }
   ],
   "source": [
    "# We can add column and row names\n",
    "image_names = [\"image1\",\"image2\",\"image3\",\"image4\"]\n",
    "confusion_mtx.index=image_names #index is the row names\n",
    "confusion_mtx.columns=image_names \n",
    "confusion_mtx\n",
    "# You can also do this upon initialization, like\n",
    "# mtx = pandas.DataFrame(index=image_names,columns=image_names)"
   ]
  },
  {
   "cell_type": "code",
   "execution_count": 4,
   "metadata": {
    "collapsed": false
   },
   "outputs": [
    {
     "data": {
      "text/plain": [
       "image1    15\n",
       "image2    15\n",
       "image3    22\n",
       "image4    17\n",
       "dtype: int64"
      ]
     },
     "execution_count": 4,
     "metadata": {},
     "output_type": "execute_result"
    }
   ],
   "source": [
    "# You can sum easily based on an axis, this thing is called a \"Series\"\n",
    "confusion_mtx.sum(axis=0)"
   ]
  },
  {
   "cell_type": "code",
   "execution_count": 6,
   "metadata": {
    "collapsed": false
   },
   "outputs": [
    {
     "data": {
      "text/html": [
       "<div>\n",
       "<table border=\"1\" class=\"dataframe\">\n",
       "  <thead>\n",
       "    <tr style=\"text-align: right;\">\n",
       "      <th></th>\n",
       "      <th>image1</th>\n",
       "      <th>image2</th>\n",
       "      <th>image3</th>\n",
       "      <th>image4</th>\n",
       "    </tr>\n",
       "  </thead>\n",
       "  <tbody>\n",
       "    <tr>\n",
       "      <th>image1</th>\n",
       "      <td>0.666667</td>\n",
       "      <td>0.066667</td>\n",
       "      <td>0.090909</td>\n",
       "      <td>0.000000</td>\n",
       "    </tr>\n",
       "    <tr>\n",
       "      <th>image2</th>\n",
       "      <td>0.066667</td>\n",
       "      <td>0.800000</td>\n",
       "      <td>0.136364</td>\n",
       "      <td>0.058824</td>\n",
       "    </tr>\n",
       "    <tr>\n",
       "      <th>image3</th>\n",
       "      <td>0.200000</td>\n",
       "      <td>0.066667</td>\n",
       "      <td>0.636364</td>\n",
       "      <td>0.000000</td>\n",
       "    </tr>\n",
       "    <tr>\n",
       "      <th>image4</th>\n",
       "      <td>0.066667</td>\n",
       "      <td>0.066667</td>\n",
       "      <td>0.136364</td>\n",
       "      <td>0.941176</td>\n",
       "    </tr>\n",
       "  </tbody>\n",
       "</table>\n",
       "</div>"
      ],
      "text/plain": [
       "          image1    image2    image3    image4\n",
       "image1  0.666667  0.066667  0.090909  0.000000\n",
       "image2  0.066667  0.800000  0.136364  0.058824\n",
       "image3  0.200000  0.066667  0.636364  0.000000\n",
       "image4  0.066667  0.066667  0.136364  0.941176"
      ]
     },
     "execution_count": 6,
     "metadata": {},
     "output_type": "execute_result"
    }
   ],
   "source": [
    "# And we can divide DataFrames by series\n",
    "confusion_mtx = confusion_mtx.divide(confusion_mtx.sum(axis=0))\n",
    "confusion_mtx"
   ]
  },
  {
   "cell_type": "code",
   "execution_count": 7,
   "metadata": {
    "collapsed": false
   },
   "outputs": [],
   "source": [
    "# I would probably make these labels a dictionary so I can index by the row or column name\n",
    "# If we only had one set of labels, we would just set them as index and columns to the dataFrame\n",
    "collection={\"image1\":0,\"image2\":0,\"image3\":1,\"image4\":1}\n",
    "task={\"image1\":0,\"image2\":0,\"image3\":0,\"image4\":1}"
   ]
  },
  {
   "cell_type": "code",
   "execution_count": 15,
   "metadata": {
    "collapsed": false
   },
   "outputs": [
    {
     "data": {
      "text/html": [
       "<div>\n",
       "<table border=\"1\" class=\"dataframe\">\n",
       "  <thead>\n",
       "    <tr style=\"text-align: right;\">\n",
       "      <th></th>\n",
       "      <th>image1</th>\n",
       "      <th>image2</th>\n",
       "      <th>image3</th>\n",
       "      <th>image4</th>\n",
       "    </tr>\n",
       "  </thead>\n",
       "  <tbody>\n",
       "    <tr>\n",
       "      <th>image1</th>\n",
       "      <td>NaN</td>\n",
       "      <td>NaN</td>\n",
       "      <td>NaN</td>\n",
       "      <td>NaN</td>\n",
       "    </tr>\n",
       "    <tr>\n",
       "      <th>image2</th>\n",
       "      <td>NaN</td>\n",
       "      <td>NaN</td>\n",
       "      <td>NaN</td>\n",
       "      <td>NaN</td>\n",
       "    </tr>\n",
       "    <tr>\n",
       "      <th>image3</th>\n",
       "      <td>NaN</td>\n",
       "      <td>NaN</td>\n",
       "      <td>NaN</td>\n",
       "      <td>NaN</td>\n",
       "    </tr>\n",
       "    <tr>\n",
       "      <th>image4</th>\n",
       "      <td>NaN</td>\n",
       "      <td>NaN</td>\n",
       "      <td>NaN</td>\n",
       "      <td>NaN</td>\n",
       "    </tr>\n",
       "  </tbody>\n",
       "</table>\n",
       "</div>"
      ],
      "text/plain": [
       "       image1 image2 image3 image4\n",
       "image1    NaN    NaN    NaN    NaN\n",
       "image2    NaN    NaN    NaN    NaN\n",
       "image3    NaN    NaN    NaN    NaN\n",
       "image4    NaN    NaN    NaN    NaN"
      ]
     },
     "execution_count": 15,
     "metadata": {},
     "output_type": "execute_result"
    }
   ],
   "source": [
    "# We can just make it empty, and it will fill / label when we fill it\n",
    "confusion_categories=pandas.DataFrame(index=image_names,columns=image_names)\n",
    "confusion_categories\n",
    "# within-task (0), within-collection (between-task) (1), bw-collection (2)"
   ]
  },
  {
   "cell_type": "code",
   "execution_count": 16,
   "metadata": {
    "collapsed": false
   },
   "outputs": [
    {
     "data": {
      "text/html": [
       "<div>\n",
       "<table border=\"1\" class=\"dataframe\">\n",
       "  <thead>\n",
       "    <tr style=\"text-align: right;\">\n",
       "      <th></th>\n",
       "      <th>image1</th>\n",
       "      <th>image2</th>\n",
       "      <th>image3</th>\n",
       "      <th>image4</th>\n",
       "    </tr>\n",
       "  </thead>\n",
       "  <tbody>\n",
       "    <tr>\n",
       "      <th>image1</th>\n",
       "      <td>NaN</td>\n",
       "      <td>0</td>\n",
       "      <td>2</td>\n",
       "      <td>2</td>\n",
       "    </tr>\n",
       "    <tr>\n",
       "      <th>image2</th>\n",
       "      <td>0</td>\n",
       "      <td>NaN</td>\n",
       "      <td>2</td>\n",
       "      <td>2</td>\n",
       "    </tr>\n",
       "    <tr>\n",
       "      <th>image3</th>\n",
       "      <td>2</td>\n",
       "      <td>2</td>\n",
       "      <td>NaN</td>\n",
       "      <td>1</td>\n",
       "    </tr>\n",
       "    <tr>\n",
       "      <th>image4</th>\n",
       "      <td>2</td>\n",
       "      <td>2</td>\n",
       "      <td>1</td>\n",
       "      <td>NaN</td>\n",
       "    </tr>\n",
       "  </tbody>\n",
       "</table>\n",
       "</div>"
      ],
      "text/plain": [
       "       image1 image2 image3 image4\n",
       "image1    NaN      0      2      2\n",
       "image2      0    NaN      2      2\n",
       "image3      2      2    NaN      1\n",
       "image4      2      2      1    NaN"
      ]
     },
     "execution_count": 16,
     "metadata": {},
     "output_type": "execute_result"
    }
   ],
   "source": [
    "for row in confusion_mtx.iterrows():\n",
    "    image1_name = row[0]\n",
    "    row_counts = row[1]      # This is again a Series\n",
    "    row_counts[image1_name] = 0 # get rid of diagonal\n",
    "    for image2_name,count in row_counts.iteritems():\n",
    "        if image1_name==image2_name:\n",
    "            continue\n",
    "        if collection[image1_name]==collection[image2_name]:\n",
    "            if task[image1_name]==task[image2_name]:\n",
    "                # You use \"loc\" to index\n",
    "                confusion_categories.loc[image1_name,image2_name]=0\n",
    "            else:\n",
    "                confusion_categories.loc[image1_name,image2_name]=1\n",
    "        else:\n",
    "            confusion_categories.loc[image1_name,image2_name]=2\n",
    "            \n",
    "confusion_categories"
   ]
  },
  {
   "cell_type": "markdown",
   "metadata": {},
   "source": [
    "The above shows a potential bug in using numpy array - if the person forgot that the diagonal was 0, then he/she might have counted it. With pandas the default value is NaN (and you can change by specifying a value as the first argument, eg pandas.DataFrame(1,index=image_names,columns=image_names)"
   ]
  },
  {
   "cell_type": "code",
   "execution_count": 17,
   "metadata": {
    "collapsed": false
   },
   "outputs": [
    {
     "data": {
      "text/plain": [
       "0    2\n",
       "1    2\n",
       "2    8\n",
       "dtype: float64"
      ]
     },
     "execution_count": 17,
     "metadata": {},
     "output_type": "execute_result"
    }
   ],
   "source": [
    "# Now we want to calculate the normalized value, this is where pandas comes in handy \n",
    "#(the above that we just did is about the same)\n",
    "value_counts = confusion_categories.apply(pandas.value_counts).fillna(0).sum(axis=1)\n",
    "# First column shows the index (the value in the DataFrame) and second shows the count\n",
    "value_counts"
   ]
  },
  {
   "cell_type": "code",
   "execution_count": 21,
   "metadata": {
    "collapsed": false
   },
   "outputs": [
    {
     "data": {
      "text/plain": [
       "[0.033333333333333333, 0.034090909090909088, 0.010720254010695188]"
      ]
     },
     "execution_count": 21,
     "metadata": {},
     "output_type": "execute_result"
    }
   ],
   "source": [
    "normalized_confusion = []\n",
    "for i in range(3):\n",
    "    # Lame, I can't remember how to do this nicely with pandas /bonk\n",
    "    normalized_value = numpy.mean(confusion_mtx.values[confusion_categories.values==i]/value_counts.loc[i])\n",
    "    normalized_confusion.append(normalized_value)\n",
    "    \n",
    "normalized_confusion"
   ]
  },
  {
   "cell_type": "markdown",
   "metadata": {
    "collapsed": true
   },
   "source": [
    "It looks like the middle value we got the same thing, but the others are different, I think because you were including some of the zeros we don't want to include."
   ]
  },
  {
   "cell_type": "code",
   "execution_count": null,
   "metadata": {
    "collapsed": true
   },
   "outputs": [],
   "source": []
  }
 ],
 "metadata": {
  "kernelspec": {
   "display_name": "Python 3",
   "language": "python",
   "name": "python3"
  },
  "language_info": {
   "codemirror_mode": {
    "name": "ipython",
    "version": 3
   },
   "file_extension": ".py",
   "mimetype": "text/x-python",
   "name": "python",
   "nbconvert_exporter": "python",
   "pygments_lexer": "ipython3",
   "version": "3.5.1"
  }
 },
 "nbformat": 4,
 "nbformat_minor": 0
}
